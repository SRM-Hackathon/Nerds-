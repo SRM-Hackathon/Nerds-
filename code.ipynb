{
 "cells": [
  {
   "cell_type": "code",
   "execution_count": 10,
   "metadata": {},
   "outputs": [],
   "source": [
    "import os\n",
    "from PIL import Image\n",
    "import numpy as np\n",
    "import tensorflow as tf\n",
    "import keras_preprocessing\n",
    "from keras_preprocessing import image\n",
    "from keras_preprocessing.image import ImageDataGenerator\n",
    "import warnings\n",
    "warnings.filterwarnings(\"ignore\")"
   ]
  },
  {
   "cell_type": "code",
   "execution_count": 2,
   "metadata": {
    "colab": {
     "height": 141
    },
    "colab_type": "code",
    "id": "MrxdR83ANgjS",
    "outputId": "98299f36-1796-4d32-989b-9519b3535304"
   },
   "outputs": [
    {
     "name": "stdout",
     "output_type": "stream",
     "text": [
      "No. of pothole images: 82\n",
      "No. of wrong images: 10\n"
     ]
    }
   ],
   "source": [
    "pothole_dir = os.path.join('C:/Users/Shubham Gupta/Desktop/python/pothole/train/pothole')\n",
    "wrong_dir= os.path.join('C:/Users/Shubham Gupta/Desktop/python/pothole/train/wrong')\n",
    "print('No. of pothole images:', len(os.listdir(pothole_dir)))\n",
    "print('No. of wrong images:', len(os.listdir(wrong_dir)))"
   ]
  },
  {
   "cell_type": "code",
   "execution_count": 3,
   "metadata": {
    "colab": {
     "height": 1468
    },
    "colab_type": "code",
    "id": "LWTisYLQM1aM",
    "outputId": "e8b5eb30-4116-48b3-bec9-e760fec92d40"
   },
   "outputs": [],
   "source": [
    "TRAINING_DIR = \"C:/Users/Shubham Gupta/Desktop/python/pothole/train\"\n",
    "training_datagen = ImageDataGenerator(\n",
    "        rescale = 1./255,\n",
    "        rotation_range=40,\n",
    "        width_shift_range=0.2,\n",
    "        height_shift_range=0.2,\n",
    "        horizontal_flip=True,\n",
    "        fill_mode='nearest'\n",
    "        )\n",
    "\n",
    "VALIDATION_DIR = \"C:/Users/Shubham Gupta/Desktop/python/pothole/test\"\n",
    "validation_datagen = ImageDataGenerator(\n",
    "        rescale = 1./255\n",
    "        )"
   ]
  },
  {
   "cell_type": "code",
   "execution_count": 4,
   "metadata": {},
   "outputs": [
    {
     "name": "stdout",
     "output_type": "stream",
     "text": [
      "Found 92 images belonging to 2 classes.\n",
      "Found 14 images belonging to 2 classes.\n"
     ]
    }
   ],
   "source": [
    "train_generator = training_datagen.flow_from_directory(\n",
    "    TRAINING_DIR,\n",
    "    target_size=(150,150),\n",
    "    class_mode='categorical'\n",
    ")\n",
    "\n",
    "validation_generator = validation_datagen.flow_from_directory(\n",
    "    VALIDATION_DIR,\n",
    "    target_size=(150,150),\n",
    "    class_mode='categorical'\n",
    ")"
   ]
  },
  {
   "cell_type": "code",
   "execution_count": 5,
   "metadata": {},
   "outputs": [
    {
     "name": "stdout",
     "output_type": "stream",
     "text": [
      "WARNING:tensorflow:From c:\\users\\shubham gupta\\appdata\\local\\programs\\python\\python36\\lib\\site-packages\\tensorflow\\python\\ops\\init_ops.py:1251: calling VarianceScaling.__init__ (from tensorflow.python.ops.init_ops) with dtype is deprecated and will be removed in a future version.\n",
      "Instructions for updating:\n",
      "Call initializer instance with the dtype argument instead of passing it to the constructor\n"
     ]
    }
   ],
   "source": [
    "model = tf.keras.models.Sequential([\n",
    "    tf.keras.layers.Conv2D(128, (3,3), activation='relu', input_shape=(150, 150, 3)),\n",
    "    tf.keras.layers.MaxPooling2D(2, 2),\n",
    "    tf.keras.layers.Conv2D(64, (3,3), activation='relu'),\n",
    "    tf.keras.layers.MaxPooling2D(2,2),\n",
    "    tf.keras.layers.Conv2D(64, (3,3), activation='relu'),\n",
    "    tf.keras.layers.MaxPooling2D(2,2),\n",
    "    tf.keras.layers.Conv2D(64, (3,3), activation='relu'),\n",
    "    tf.keras.layers.MaxPooling2D(2,2),\n",
    "    tf.keras.layers.Flatten(),\n",
    "    tf.keras.layers.Dense(32, activation='relu'),\n",
    "    tf.keras.layers.Dense(2, activation='softmax')\n",
    "])"
   ]
  },
  {
   "cell_type": "code",
   "execution_count": 6,
   "metadata": {},
   "outputs": [],
   "source": [
    "model.compile(loss = 'categorical_crossentropy', optimizer='rmsprop', metrics=['accuracy'])"
   ]
  },
  {
   "cell_type": "code",
   "execution_count": 7,
   "metadata": {},
   "outputs": [
    {
     "name": "stdout",
     "output_type": "stream",
     "text": [
      "Epoch 1/25\n",
      "3/3 [==============================] - 8s 3s/step - loss: 0.8143 - acc: 0.8913 - val_loss: 0.5415 - val_acc: 0.7857\n",
      "Epoch 2/25\n",
      "3/3 [==============================] - 2s 662ms/step - loss: 0.6038 - acc: 0.8913 - val_loss: 0.5368 - val_acc: 0.7857\n",
      "Epoch 3/25\n",
      "3/3 [==============================] - 2s 659ms/step - loss: 0.4094 - acc: 0.8913 - val_loss: 0.6120 - val_acc: 0.7857\n",
      "Epoch 4/25\n",
      "3/3 [==============================] - 2s 672ms/step - loss: 0.3287 - acc: 0.8913 - val_loss: 0.5494 - val_acc: 0.7857\n",
      "Epoch 5/25\n",
      "3/3 [==============================] - 2s 691ms/step - loss: 0.3806 - acc: 0.8913 - val_loss: 0.5846 - val_acc: 0.7857\n",
      "Epoch 6/25\n",
      "3/3 [==============================] - 2s 661ms/step - loss: 0.3545 - acc: 0.8913 - val_loss: 0.8138 - val_acc: 0.7857\n",
      "Epoch 7/25\n",
      "3/3 [==============================] - 2s 666ms/step - loss: 0.3486 - acc: 0.8913 - val_loss: 0.8736 - val_acc: 0.7857\n",
      "Epoch 8/25\n",
      "3/3 [==============================] - 2s 664ms/step - loss: 0.5688 - acc: 0.8913 - val_loss: 0.6049 - val_acc: 0.7857\n",
      "Epoch 9/25\n",
      "3/3 [==============================] - 2s 708ms/step - loss: 0.3363 - acc: 0.8913 - val_loss: 0.6256 - val_acc: 0.7857\n",
      "Epoch 10/25\n",
      "3/3 [==============================] - 2s 661ms/step - loss: 0.3473 - acc: 0.8913 - val_loss: 0.7590 - val_acc: 0.7857\n",
      "Epoch 11/25\n",
      "3/3 [==============================] - 4s 1s/step - loss: 0.4235 - acc: 0.8913 - val_loss: 0.6275 - val_acc: 0.7857\n",
      "Epoch 12/25\n",
      "3/3 [==============================] - 2s 775ms/step - loss: 0.3587 - acc: 0.8913 - val_loss: 1.0650 - val_acc: 0.7857\n",
      "Epoch 13/25\n",
      "3/3 [==============================] - 2s 695ms/step - loss: 0.4285 - acc: 0.8913 - val_loss: 0.5558 - val_acc: 0.7857\n",
      "Epoch 14/25\n",
      "3/3 [==============================] - 2s 660ms/step - loss: 0.3320 - acc: 0.8913 - val_loss: 0.6639 - val_acc: 0.7857\n",
      "Epoch 15/25\n",
      "3/3 [==============================] - 2s 704ms/step - loss: 0.3815 - acc: 0.8913 - val_loss: 0.6276 - val_acc: 0.7857\n",
      "Epoch 16/25\n",
      "3/3 [==============================] - 2s 683ms/step - loss: 0.3039 - acc: 0.8913 - val_loss: 0.5784 - val_acc: 0.7857\n",
      "Epoch 17/25\n",
      "3/3 [==============================] - 2s 662ms/step - loss: 0.2436 - acc: 0.8913 - val_loss: 0.7685 - val_acc: 0.2857\n",
      "Epoch 18/25\n",
      "3/3 [==============================] - 2s 662ms/step - loss: 0.5553 - acc: 0.6304 - val_loss: 0.5375 - val_acc: 0.7857\n",
      "Epoch 19/25\n",
      "3/3 [==============================] - 2s 692ms/step - loss: 0.2489 - acc: 0.8913 - val_loss: 0.5310 - val_acc: 0.7857\n",
      "Epoch 20/25\n",
      "3/3 [==============================] - 2s 689ms/step - loss: 0.2568 - acc: 0.8913 - val_loss: 0.8273 - val_acc: 0.7857\n",
      "Epoch 21/25\n",
      "3/3 [==============================] - 2s 705ms/step - loss: 0.2834 - acc: 0.9130 - val_loss: 1.1497 - val_acc: 0.5714\n",
      "Epoch 22/25\n",
      "3/3 [==============================] - 2s 694ms/step - loss: 0.2138 - acc: 0.9130 - val_loss: 0.9665 - val_acc: 0.7143\n",
      "Epoch 23/25\n",
      "3/3 [==============================] - 2s 702ms/step - loss: 0.2906 - acc: 0.9130 - val_loss: 0.8074 - val_acc: 0.6429\n",
      "Epoch 24/25\n",
      "3/3 [==============================] - 2s 691ms/step - loss: 0.3106 - acc: 0.8804 - val_loss: 0.7989 - val_acc: 0.6429\n",
      "Epoch 25/25\n",
      "3/3 [==============================] - 2s 702ms/step - loss: 0.1689 - acc: 0.9348 - val_loss: 1.9483 - val_acc: 0.5000\n"
     ]
    }
   ],
   "source": [
    "history = model.fit_generator(train_generator, epochs=25, validation_data = validation_generator, verbose = 1)"
   ]
  },
  {
   "cell_type": "code",
   "execution_count": 8,
   "metadata": {},
   "outputs": [
    {
     "name": "stdout",
     "output_type": "stream",
     "text": [
      "Model: \"sequential\"\n",
      "_________________________________________________________________\n",
      "Layer (type)                 Output Shape              Param #   \n",
      "=================================================================\n",
      "conv2d (Conv2D)              (None, 148, 148, 128)     3584      \n",
      "_________________________________________________________________\n",
      "max_pooling2d (MaxPooling2D) (None, 74, 74, 128)       0         \n",
      "_________________________________________________________________\n",
      "conv2d_1 (Conv2D)            (None, 72, 72, 64)        73792     \n",
      "_________________________________________________________________\n",
      "max_pooling2d_1 (MaxPooling2 (None, 36, 36, 64)        0         \n",
      "_________________________________________________________________\n",
      "conv2d_2 (Conv2D)            (None, 34, 34, 64)        36928     \n",
      "_________________________________________________________________\n",
      "max_pooling2d_2 (MaxPooling2 (None, 17, 17, 64)        0         \n",
      "_________________________________________________________________\n",
      "conv2d_3 (Conv2D)            (None, 15, 15, 64)        36928     \n",
      "_________________________________________________________________\n",
      "max_pooling2d_3 (MaxPooling2 (None, 7, 7, 64)          0         \n",
      "_________________________________________________________________\n",
      "flatten (Flatten)            (None, 3136)              0         \n",
      "_________________________________________________________________\n",
      "dense (Dense)                (None, 32)                100384    \n",
      "_________________________________________________________________\n",
      "dense_1 (Dense)              (None, 2)                 66        \n",
      "=================================================================\n",
      "Total params: 251,682\n",
      "Trainable params: 251,682\n",
      "Non-trainable params: 0\n",
      "_________________________________________________________________\n"
     ]
    }
   ],
   "source": [
    "model.summary()\n",
    "model.save(\"rps.h5\")"
   ]
  },
  {
   "cell_type": "code",
   "execution_count": 13,
   "metadata": {},
   "outputs": [
    {
     "name": "stdout",
     "output_type": "stream",
     "text": [
      "1st is pothole , 2nd is wrong \n"
     ]
    },
    {
     "data": {
      "text/plain": [
       "array([[0., 1.]], dtype=float32)"
      ]
     },
     "execution_count": 13,
     "metadata": {},
     "output_type": "execute_result"
    }
   ],
   "source": [
    "print(\"1st is pothole , 2nd is wrong \")\n",
    "path = \"1570787529328.jpg\"\n",
    "img = image.load_img(path, target_size=(150, 150))\n",
    "x = image.img_to_array(img)\n",
    "x = np.expand_dims(x, axis=0)\n",
    "images = np.vstack([x])\n",
    "model.predict(images)"
   ]
  },
  {
   "cell_type": "code",
   "execution_count": null,
   "metadata": {},
   "outputs": [],
   "source": []
  },
  {
   "cell_type": "code",
   "execution_count": null,
   "metadata": {},
   "outputs": [],
   "source": []
  }
 ],
 "metadata": {
  "colab": {
   "name": "rock_paper_scissors.ipynb",
   "provenance": [],
   "version": "0.3.2"
  },
  "kernelspec": {
   "display_name": "Python 3",
   "language": "python",
   "name": "python3"
  },
  "language_info": {
   "codemirror_mode": {
    "name": "ipython",
    "version": 3
   },
   "file_extension": ".py",
   "mimetype": "text/x-python",
   "name": "python",
   "nbconvert_exporter": "python",
   "pygments_lexer": "ipython3",
   "version": "3.6.6"
  }
 },
 "nbformat": 4,
 "nbformat_minor": 1
}
