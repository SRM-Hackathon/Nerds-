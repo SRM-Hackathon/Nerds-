{
 "cells": [
  {
   "cell_type": "code",
   "execution_count": 1,
   "metadata": {},
   "outputs": [
    {
     "name": "stderr",
     "output_type": "stream",
     "text": [
      "c:\\users\\shubham gupta\\appdata\\local\\programs\\python\\python36\\lib\\site-packages\\tensorflow\\python\\framework\\dtypes.py:516: FutureWarning: Passing (type, 1) or '1type' as a synonym of type is deprecated; in a future version of numpy, it will be understood as (type, (1,)) / '(1,)type'.\n",
      "  _np_qint8 = np.dtype([(\"qint8\", np.int8, 1)])\n",
      "c:\\users\\shubham gupta\\appdata\\local\\programs\\python\\python36\\lib\\site-packages\\tensorflow\\python\\framework\\dtypes.py:517: FutureWarning: Passing (type, 1) or '1type' as a synonym of type is deprecated; in a future version of numpy, it will be understood as (type, (1,)) / '(1,)type'.\n",
      "  _np_quint8 = np.dtype([(\"quint8\", np.uint8, 1)])\n",
      "c:\\users\\shubham gupta\\appdata\\local\\programs\\python\\python36\\lib\\site-packages\\tensorflow\\python\\framework\\dtypes.py:518: FutureWarning: Passing (type, 1) or '1type' as a synonym of type is deprecated; in a future version of numpy, it will be understood as (type, (1,)) / '(1,)type'.\n",
      "  _np_qint16 = np.dtype([(\"qint16\", np.int16, 1)])\n",
      "c:\\users\\shubham gupta\\appdata\\local\\programs\\python\\python36\\lib\\site-packages\\tensorflow\\python\\framework\\dtypes.py:519: FutureWarning: Passing (type, 1) or '1type' as a synonym of type is deprecated; in a future version of numpy, it will be understood as (type, (1,)) / '(1,)type'.\n",
      "  _np_quint16 = np.dtype([(\"quint16\", np.uint16, 1)])\n",
      "c:\\users\\shubham gupta\\appdata\\local\\programs\\python\\python36\\lib\\site-packages\\tensorflow\\python\\framework\\dtypes.py:520: FutureWarning: Passing (type, 1) or '1type' as a synonym of type is deprecated; in a future version of numpy, it will be understood as (type, (1,)) / '(1,)type'.\n",
      "  _np_qint32 = np.dtype([(\"qint32\", np.int32, 1)])\n",
      "c:\\users\\shubham gupta\\appdata\\local\\programs\\python\\python36\\lib\\site-packages\\tensorflow\\python\\framework\\dtypes.py:525: FutureWarning: Passing (type, 1) or '1type' as a synonym of type is deprecated; in a future version of numpy, it will be understood as (type, (1,)) / '(1,)type'.\n",
      "  np_resource = np.dtype([(\"resource\", np.ubyte, 1)])\n",
      "c:\\users\\shubham gupta\\appdata\\local\\programs\\python\\python36\\lib\\site-packages\\tensorboard\\compat\\tensorflow_stub\\dtypes.py:541: FutureWarning: Passing (type, 1) or '1type' as a synonym of type is deprecated; in a future version of numpy, it will be understood as (type, (1,)) / '(1,)type'.\n",
      "  _np_qint8 = np.dtype([(\"qint8\", np.int8, 1)])\n",
      "c:\\users\\shubham gupta\\appdata\\local\\programs\\python\\python36\\lib\\site-packages\\tensorboard\\compat\\tensorflow_stub\\dtypes.py:542: FutureWarning: Passing (type, 1) or '1type' as a synonym of type is deprecated; in a future version of numpy, it will be understood as (type, (1,)) / '(1,)type'.\n",
      "  _np_quint8 = np.dtype([(\"quint8\", np.uint8, 1)])\n",
      "c:\\users\\shubham gupta\\appdata\\local\\programs\\python\\python36\\lib\\site-packages\\tensorboard\\compat\\tensorflow_stub\\dtypes.py:543: FutureWarning: Passing (type, 1) or '1type' as a synonym of type is deprecated; in a future version of numpy, it will be understood as (type, (1,)) / '(1,)type'.\n",
      "  _np_qint16 = np.dtype([(\"qint16\", np.int16, 1)])\n",
      "c:\\users\\shubham gupta\\appdata\\local\\programs\\python\\python36\\lib\\site-packages\\tensorboard\\compat\\tensorflow_stub\\dtypes.py:544: FutureWarning: Passing (type, 1) or '1type' as a synonym of type is deprecated; in a future version of numpy, it will be understood as (type, (1,)) / '(1,)type'.\n",
      "  _np_quint16 = np.dtype([(\"quint16\", np.uint16, 1)])\n",
      "c:\\users\\shubham gupta\\appdata\\local\\programs\\python\\python36\\lib\\site-packages\\tensorboard\\compat\\tensorflow_stub\\dtypes.py:545: FutureWarning: Passing (type, 1) or '1type' as a synonym of type is deprecated; in a future version of numpy, it will be understood as (type, (1,)) / '(1,)type'.\n",
      "  _np_qint32 = np.dtype([(\"qint32\", np.int32, 1)])\n",
      "c:\\users\\shubham gupta\\appdata\\local\\programs\\python\\python36\\lib\\site-packages\\tensorboard\\compat\\tensorflow_stub\\dtypes.py:550: FutureWarning: Passing (type, 1) or '1type' as a synonym of type is deprecated; in a future version of numpy, it will be understood as (type, (1,)) / '(1,)type'.\n",
      "  np_resource = np.dtype([(\"resource\", np.ubyte, 1)])\n"
     ]
    }
   ],
   "source": [
    "import os\n",
    "from PIL import Image\n",
    "import numpy as np\n",
    "import tensorflow as tf\n",
    "import keras_preprocessing\n",
    "from keras_preprocessing import image\n",
    "from keras_preprocessing.image import ImageDataGenerator\n",
    "import warnings\n",
    "warnings.filterwarnings(\"ignore\")"
   ]
  },
  {
   "cell_type": "code",
   "execution_count": 2,
   "metadata": {
    "colab": {
     "height": 141
    },
    "colab_type": "code",
    "id": "MrxdR83ANgjS",
    "outputId": "98299f36-1796-4d32-989b-9519b3535304"
   },
   "outputs": [
    {
     "name": "stdout",
     "output_type": "stream",
     "text": [
      "No. of pothole images: 82\n",
      "No. of wrong images: 10\n"
     ]
    }
   ],
   "source": [
    "pothole_dir = os.path.join('C:/Users/Shubham Gupta/Desktop/python/pothole/train/pothole')\n",
    "wrong_dir= os.path.join('C:/Users/Shubham Gupta/Desktop/python/pothole/train/wrong')\n",
    "\n",
    "print('No. of pothole images:', len(os.listdir(pothole_dir)))\n",
    "print('No. of wrong images:', len(os.listdir(wrong_dir)))"
   ]
  },
  {
   "cell_type": "code",
   "execution_count": 3,
   "metadata": {
    "colab": {
     "height": 1468
    },
    "colab_type": "code",
    "id": "LWTisYLQM1aM",
    "outputId": "e8b5eb30-4116-48b3-bec9-e760fec92d40"
   },
   "outputs": [],
   "source": [
    "TRAINING_DIR = \"C:/Users/Shubham Gupta/Desktop/python/pothole/train\"\n",
    "training_datagen = ImageDataGenerator(\n",
    "        rescale = 1./255,\n",
    "        rotation_range=40,\n",
    "        width_shift_range=0.2,\n",
    "        height_shift_range=0.2,\n",
    "        horizontal_flip=True,\n",
    "        fill_mode='nearest'\n",
    "        )\n",
    "\n",
    "VALIDATION_DIR = \"C:/Users/Shubham Gupta/Desktop/python/pothole/test\"\n",
    "validation_datagen = ImageDataGenerator(\n",
    "        rescale = 1./255\n",
    "        )"
   ]
  },
  {
   "cell_type": "code",
   "execution_count": 4,
   "metadata": {},
   "outputs": [
    {
     "name": "stdout",
     "output_type": "stream",
     "text": [
      "Found 92 images belonging to 2 classes.\n",
      "Found 14 images belonging to 2 classes.\n"
     ]
    }
   ],
   "source": [
    "train_generator = training_datagen.flow_from_directory(\n",
    "    TRAINING_DIR,\n",
    "    target_size=(150,150),\n",
    "    class_mode='categorical'\n",
    ")\n",
    "\n",
    "validation_generator = validation_datagen.flow_from_directory(\n",
    "    VALIDATION_DIR,\n",
    "    target_size=(150,150),\n",
    "    class_mode='categorical'\n",
    ")"
   ]
  },
  {
   "cell_type": "code",
   "execution_count": 5,
   "metadata": {},
   "outputs": [
    {
     "name": "stdout",
     "output_type": "stream",
     "text": [
      "WARNING:tensorflow:From c:\\users\\shubham gupta\\appdata\\local\\programs\\python\\python36\\lib\\site-packages\\tensorflow\\python\\ops\\init_ops.py:1251: calling VarianceScaling.__init__ (from tensorflow.python.ops.init_ops) with dtype is deprecated and will be removed in a future version.\n",
      "Instructions for updating:\n",
      "Call initializer instance with the dtype argument instead of passing it to the constructor\n"
     ]
    }
   ],
   "source": [
    "model = tf.keras.models.Sequential([\n",
    "    tf.keras.layers.Conv2D(128, (3,3), activation='relu', input_shape=(150, 150, 3)),\n",
    "    tf.keras.layers.MaxPooling2D(2, 2),\n",
    "    tf.keras.layers.Conv2D(64, (3,3), activation='relu'),\n",
    "    tf.keras.layers.MaxPooling2D(2,2),\n",
    "    tf.keras.layers.Conv2D(64, (3,3), activation='relu'),\n",
    "    tf.keras.layers.MaxPooling2D(2,2),\n",
    "    tf.keras.layers.Conv2D(64, (3,3), activation='relu'),\n",
    "    tf.keras.layers.MaxPooling2D(2,2),\n",
    "    tf.keras.layers.Flatten(),\n",
    "    tf.keras.layers.Dense(32, activation='relu'),\n",
    "    tf.keras.layers.Dense(2, activation='softmax')\n",
    "])"
   ]
  },
  {
   "cell_type": "code",
   "execution_count": 6,
   "metadata": {},
   "outputs": [],
   "source": [
    "model.compile(loss = 'categorical_crossentropy', optimizer='adam', metrics=['accuracy'])"
   ]
  },
  {
   "cell_type": "code",
   "execution_count": 7,
   "metadata": {},
   "outputs": [
    {
     "name": "stdout",
     "output_type": "stream",
     "text": [
      "Epoch 1/50\n",
      "3/3 - 8s - loss: 0.4954 - acc: 0.6630 - val_loss: 0.8479 - val_acc: 0.7857\n",
      "Epoch 2/50\n",
      "3/3 - 2s - loss: 0.3691 - acc: 0.8913 - val_loss: 0.5495 - val_acc: 0.7857\n",
      "Epoch 3/50\n",
      "3/3 - 2s - loss: 0.3705 - acc: 0.8913 - val_loss: 0.5993 - val_acc: 0.7857\n",
      "Epoch 4/50\n",
      "3/3 - 2s - loss: 0.3343 - acc: 0.8913 - val_loss: 0.6617 - val_acc: 0.7857\n",
      "Epoch 5/50\n",
      "3/3 - 2s - loss: 0.3357 - acc: 0.8913 - val_loss: 0.5909 - val_acc: 0.7857\n",
      "Epoch 6/50\n",
      "3/3 - 2s - loss: 0.3264 - acc: 0.8913 - val_loss: 0.5618 - val_acc: 0.7857\n",
      "Epoch 7/50\n",
      "3/3 - 2s - loss: 0.3451 - acc: 0.8913 - val_loss: 0.5639 - val_acc: 0.7857\n",
      "Epoch 8/50\n",
      "3/3 - 2s - loss: 0.3102 - acc: 0.8913 - val_loss: 0.6259 - val_acc: 0.7857\n",
      "Epoch 9/50\n",
      "3/3 - 2s - loss: 0.3341 - acc: 0.8913 - val_loss: 0.5588 - val_acc: 0.7857\n",
      "Epoch 10/50\n",
      "3/3 - 2s - loss: 0.2985 - acc: 0.8913 - val_loss: 0.5554 - val_acc: 0.7857\n",
      "Epoch 11/50\n",
      "3/3 - 2s - loss: 0.2754 - acc: 0.8913 - val_loss: 0.5594 - val_acc: 0.7857\n",
      "Epoch 12/50\n",
      "3/3 - 2s - loss: 0.2650 - acc: 0.8913 - val_loss: 0.5718 - val_acc: 0.7857\n",
      "Epoch 13/50\n",
      "3/3 - 2s - loss: 0.2220 - acc: 0.8913 - val_loss: 0.5657 - val_acc: 0.6429\n",
      "Epoch 14/50\n",
      "3/3 - 2s - loss: 0.1908 - acc: 0.9457 - val_loss: 0.6400 - val_acc: 0.5000\n",
      "Epoch 15/50\n",
      "3/3 - 2s - loss: 0.1467 - acc: 0.9457 - val_loss: 0.6657 - val_acc: 0.5000\n",
      "Epoch 16/50\n",
      "3/3 - 2s - loss: 0.1857 - acc: 0.9565 - val_loss: 1.0291 - val_acc: 0.3571\n",
      "Epoch 17/50\n",
      "3/3 - 2s - loss: 0.1378 - acc: 0.9565 - val_loss: 0.7921 - val_acc: 0.5714\n",
      "Epoch 18/50\n",
      "3/3 - 2s - loss: 0.1654 - acc: 0.9348 - val_loss: 1.6527 - val_acc: 0.2857\n",
      "Epoch 19/50\n",
      "3/3 - 2s - loss: 0.1853 - acc: 0.9348 - val_loss: 0.7788 - val_acc: 0.7143\n",
      "Epoch 20/50\n",
      "3/3 - 2s - loss: 0.2975 - acc: 0.9130 - val_loss: 1.1486 - val_acc: 0.4286\n",
      "Epoch 21/50\n",
      "3/3 - 2s - loss: 0.1990 - acc: 0.9348 - val_loss: 1.0873 - val_acc: 0.5000\n",
      "Epoch 22/50\n",
      "3/3 - 2s - loss: 0.1232 - acc: 0.9783 - val_loss: 0.6983 - val_acc: 0.6429\n",
      "Epoch 23/50\n",
      "3/3 - 2s - loss: 0.2072 - acc: 0.9130 - val_loss: 0.8824 - val_acc: 0.5714\n",
      "Epoch 24/50\n",
      "3/3 - 2s - loss: 0.0971 - acc: 0.9891 - val_loss: 1.4936 - val_acc: 0.4286\n",
      "Epoch 25/50\n",
      "3/3 - 2s - loss: 0.1346 - acc: 0.9457 - val_loss: 1.1435 - val_acc: 0.5714\n",
      "Epoch 26/50\n",
      "3/3 - 2s - loss: 0.1190 - acc: 0.9565 - val_loss: 0.9337 - val_acc: 0.5714\n",
      "Epoch 27/50\n",
      "3/3 - 2s - loss: 0.1506 - acc: 0.9457 - val_loss: 1.3973 - val_acc: 0.5000\n",
      "Epoch 28/50\n",
      "3/3 - 2s - loss: 0.1436 - acc: 0.9457 - val_loss: 1.8513 - val_acc: 0.4286\n",
      "Epoch 29/50\n",
      "3/3 - 2s - loss: 0.1236 - acc: 0.9565 - val_loss: 1.2412 - val_acc: 0.5714\n",
      "Epoch 30/50\n",
      "3/3 - 2s - loss: 0.0927 - acc: 0.9565 - val_loss: 1.2334 - val_acc: 0.5714\n",
      "Epoch 31/50\n",
      "3/3 - 2s - loss: 0.0828 - acc: 0.9783 - val_loss: 1.7303 - val_acc: 0.5000\n",
      "Epoch 32/50\n",
      "3/3 - 2s - loss: 0.1180 - acc: 0.9565 - val_loss: 1.6739 - val_acc: 0.5000\n",
      "Epoch 33/50\n",
      "3/3 - 2s - loss: 0.0842 - acc: 0.9783 - val_loss: 1.2909 - val_acc: 0.5714\n",
      "Epoch 34/50\n",
      "3/3 - 2s - loss: 0.0947 - acc: 0.9457 - val_loss: 1.9727 - val_acc: 0.5000\n",
      "Epoch 35/50\n",
      "3/3 - 2s - loss: 0.0643 - acc: 0.9783 - val_loss: 2.4366 - val_acc: 0.4286\n",
      "Epoch 36/50\n",
      "3/3 - 2s - loss: 0.0712 - acc: 0.9783 - val_loss: 1.8347 - val_acc: 0.5000\n",
      "Epoch 37/50\n",
      "3/3 - 2s - loss: 0.0696 - acc: 0.9674 - val_loss: 1.8276 - val_acc: 0.5000\n",
      "Epoch 38/50\n",
      "3/3 - 2s - loss: 0.0353 - acc: 0.9891 - val_loss: 2.3946 - val_acc: 0.5000\n",
      "Epoch 39/50\n",
      "3/3 - 2s - loss: 0.0334 - acc: 0.9783 - val_loss: 3.0320 - val_acc: 0.4286\n",
      "Epoch 40/50\n",
      "3/3 - 2s - loss: 0.0379 - acc: 0.9891 - val_loss: 2.5504 - val_acc: 0.5000\n",
      "Epoch 41/50\n",
      "3/3 - 2s - loss: 0.0893 - acc: 0.9783 - val_loss: 2.9009 - val_acc: 0.5000\n",
      "Epoch 42/50\n",
      "3/3 - 2s - loss: 0.0188 - acc: 0.9891 - val_loss: 3.3943 - val_acc: 0.4286\n",
      "Epoch 43/50\n",
      "3/3 - 2s - loss: 0.0299 - acc: 1.0000 - val_loss: 2.8214 - val_acc: 0.5000\n",
      "Epoch 44/50\n",
      "3/3 - 2s - loss: 0.0656 - acc: 0.9783 - val_loss: 3.3659 - val_acc: 0.5000\n",
      "Epoch 45/50\n",
      "3/3 - 2s - loss: 0.1222 - acc: 0.9565 - val_loss: 3.7444 - val_acc: 0.4286\n",
      "Epoch 46/50\n",
      "3/3 - 2s - loss: 0.0297 - acc: 0.9891 - val_loss: 1.8541 - val_acc: 0.6429\n",
      "Epoch 47/50\n",
      "3/3 - 2s - loss: 0.1557 - acc: 0.9674 - val_loss: 2.8837 - val_acc: 0.5000\n",
      "Epoch 48/50\n",
      "3/3 - 2s - loss: 0.0889 - acc: 0.9565 - val_loss: 3.6557 - val_acc: 0.4286\n",
      "Epoch 49/50\n",
      "3/3 - 2s - loss: 0.1447 - acc: 0.9457 - val_loss: 1.9267 - val_acc: 0.5000\n",
      "Epoch 50/50\n",
      "3/3 - 2s - loss: 0.0553 - acc: 0.9891 - val_loss: 1.4570 - val_acc: 0.6429\n"
     ]
    }
   ],
   "source": [
    "history = model.fit_generator(train_generator, epochs=50, validation_data = validation_generator, verbose = 2)"
   ]
  },
  {
   "cell_type": "code",
   "execution_count": 8,
   "metadata": {},
   "outputs": [
    {
     "name": "stdout",
     "output_type": "stream",
     "text": [
      "Model: \"sequential\"\n",
      "_________________________________________________________________\n",
      "Layer (type)                 Output Shape              Param #   \n",
      "=================================================================\n",
      "conv2d (Conv2D)              (None, 148, 148, 128)     3584      \n",
      "_________________________________________________________________\n",
      "max_pooling2d (MaxPooling2D) (None, 74, 74, 128)       0         \n",
      "_________________________________________________________________\n",
      "conv2d_1 (Conv2D)            (None, 72, 72, 64)        73792     \n",
      "_________________________________________________________________\n",
      "max_pooling2d_1 (MaxPooling2 (None, 36, 36, 64)        0         \n",
      "_________________________________________________________________\n",
      "conv2d_2 (Conv2D)            (None, 34, 34, 64)        36928     \n",
      "_________________________________________________________________\n",
      "max_pooling2d_2 (MaxPooling2 (None, 17, 17, 64)        0         \n",
      "_________________________________________________________________\n",
      "conv2d_3 (Conv2D)            (None, 15, 15, 64)        36928     \n",
      "_________________________________________________________________\n",
      "max_pooling2d_3 (MaxPooling2 (None, 7, 7, 64)          0         \n",
      "_________________________________________________________________\n",
      "flatten (Flatten)            (None, 3136)              0         \n",
      "_________________________________________________________________\n",
      "dense (Dense)                (None, 32)                100384    \n",
      "_________________________________________________________________\n",
      "dense_1 (Dense)              (None, 2)                 66        \n",
      "=================================================================\n",
      "Total params: 251,682\n",
      "Trainable params: 251,682\n",
      "Non-trainable params: 0\n",
      "_________________________________________________________________\n"
     ]
    }
   ],
   "source": [
    "model.summary()\n",
    "model.save(\"rps.h5\")"
   ]
  },
  {
   "cell_type": "code",
   "execution_count": 36,
   "metadata": {},
   "outputs": [],
   "source": [
    "def model_predict(x):\n",
    "    path = string(x)\n",
    "    img = image.load_img(path, target_size=(150, 150))\n",
    "    x = image.img_to_array(img)\n",
    "    x = np.expand_dims(x, axis=0)\n",
    "    images = np.vstack([x])\n",
    "    model.predict(images)"
   ]
  },
  {
   "cell_type": "code",
   "execution_count": 37,
   "metadata": {},
   "outputs": [
    {
     "name": "stdout",
     "output_type": "stream",
     "text": [
      "11.jpg\n",
      "<class 'str'>\n",
      "1st is pothole , 2nd is wrong \n"
     ]
    },
    {
     "ename": "NameError",
     "evalue": "name 'string' is not defined",
     "output_type": "error",
     "traceback": [
      "\u001b[1;31m---------------------------------------------------------------------------\u001b[0m",
      "\u001b[1;31mNameError\u001b[0m                                 Traceback (most recent call last)",
      "\u001b[1;32m<ipython-input-37-6b375d3e9a17>\u001b[0m in \u001b[0;36m<module>\u001b[1;34m()\u001b[0m\n\u001b[0;32m      6\u001b[0m     \u001b[0mprint\u001b[0m\u001b[1;33m(\u001b[0m\u001b[0mfilename\u001b[0m\u001b[1;33m)\u001b[0m\u001b[1;33m\u001b[0m\u001b[0m\n\u001b[0;32m      7\u001b[0m     \u001b[0mprint\u001b[0m\u001b[1;33m(\u001b[0m\u001b[0mtype\u001b[0m\u001b[1;33m(\u001b[0m\u001b[0mfilename\u001b[0m\u001b[1;33m)\u001b[0m\u001b[1;33m)\u001b[0m\u001b[1;33m\u001b[0m\u001b[0m\n\u001b[1;32m----> 8\u001b[1;33m     \u001b[0mmodel_predict\u001b[0m\u001b[1;33m(\u001b[0m\u001b[0mfilename\u001b[0m\u001b[1;33m)\u001b[0m\u001b[1;33m\u001b[0m\u001b[0m\n\u001b[0m",
      "\u001b[1;32m<ipython-input-36-0277e8721a5a>\u001b[0m in \u001b[0;36mmodel_predict\u001b[1;34m(x)\u001b[0m\n\u001b[0;32m      1\u001b[0m \u001b[1;32mdef\u001b[0m \u001b[0mmodel_predict\u001b[0m\u001b[1;33m(\u001b[0m\u001b[0mx\u001b[0m\u001b[1;33m)\u001b[0m\u001b[1;33m:\u001b[0m\u001b[1;33m\u001b[0m\u001b[0m\n\u001b[0;32m      2\u001b[0m     \u001b[0mprint\u001b[0m\u001b[1;33m(\u001b[0m\u001b[1;34m\"1st is pothole , 2nd is wrong \"\u001b[0m\u001b[1;33m)\u001b[0m\u001b[1;33m\u001b[0m\u001b[0m\n\u001b[1;32m----> 3\u001b[1;33m     \u001b[0mpath\u001b[0m \u001b[1;33m=\u001b[0m \u001b[0mstring\u001b[0m\u001b[1;33m(\u001b[0m\u001b[0mx\u001b[0m\u001b[1;33m)\u001b[0m\u001b[1;33m\u001b[0m\u001b[0m\n\u001b[0m\u001b[0;32m      4\u001b[0m     \u001b[0mimg\u001b[0m \u001b[1;33m=\u001b[0m \u001b[0mimage\u001b[0m\u001b[1;33m.\u001b[0m\u001b[0mload_img\u001b[0m\u001b[1;33m(\u001b[0m\u001b[0mpath\u001b[0m\u001b[1;33m,\u001b[0m \u001b[0mtarget_size\u001b[0m\u001b[1;33m=\u001b[0m\u001b[1;33m(\u001b[0m\u001b[1;36m150\u001b[0m\u001b[1;33m,\u001b[0m \u001b[1;36m150\u001b[0m\u001b[1;33m)\u001b[0m\u001b[1;33m)\u001b[0m\u001b[1;33m\u001b[0m\u001b[0m\n\u001b[0;32m      5\u001b[0m     \u001b[0mx\u001b[0m \u001b[1;33m=\u001b[0m \u001b[0mimage\u001b[0m\u001b[1;33m.\u001b[0m\u001b[0mimg_to_array\u001b[0m\u001b[1;33m(\u001b[0m\u001b[0mimg\u001b[0m\u001b[1;33m)\u001b[0m\u001b[1;33m\u001b[0m\u001b[0m\n",
      "\u001b[1;31mNameError\u001b[0m: name 'string' is not defined"
     ]
    }
   ],
   "source": [
    "test_path = \"C:/Users/Shubham Gupta/Desktop/python/pothole/train/pothole\"\n",
    "folder = os.fsencode(test_path)\n",
    "\n",
    "for file in os.listdir(folder):\n",
    "    filename = os.fsdecode(file)\n",
    "    print(filename)\n",
    "    print(type(filename))\n",
    "    model_predict(filename)"
   ]
  },
  {
   "cell_type": "code",
   "execution_count": null,
   "metadata": {},
   "outputs": [],
   "source": [
    "\n"
   ]
  },
  {
   "cell_type": "code",
   "execution_count": null,
   "metadata": {},
   "outputs": [],
   "source": []
  }
 ],
 "metadata": {
  "colab": {
   "name": "rock_paper_scissors.ipynb",
   "provenance": [],
   "version": "0.3.2"
  },
  "kernelspec": {
   "display_name": "Python 3",
   "language": "python",
   "name": "python3"
  },
  "language_info": {
   "codemirror_mode": {
    "name": "ipython",
    "version": 3
   },
   "file_extension": ".py",
   "mimetype": "text/x-python",
   "name": "python",
   "nbconvert_exporter": "python",
   "pygments_lexer": "ipython3",
   "version": "3.6.6"
  }
 },
 "nbformat": 4,
 "nbformat_minor": 1
}
