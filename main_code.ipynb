{
 "cells": [
  {
   "cell_type": "code",
   "execution_count": 1,
   "metadata": {},
   "outputs": [],
   "source": [
    "import warnings\n",
    "warnings.filterwarnings(\"ignore\")"
   ]
  },
  {
   "cell_type": "code",
   "execution_count": 2,
   "metadata": {},
   "outputs": [],
   "source": [
    "import cv2\n",
    "import os\n",
    "import time\n",
    "from os import walk    \n",
    "from PIL import Image\n",
    "import numpy as np\n",
    "import tensorflow as tf\n",
    "import keras_preprocessing\n",
    "from keras_preprocessing import image\n",
    "from keras_preprocessing.image import ImageDataGenerator"
   ]
  },
  {
   "cell_type": "code",
   "execution_count": 3,
   "metadata": {
    "colab": {
     "height": 141
    },
    "colab_type": "code",
    "id": "MrxdR83ANgjS",
    "outputId": "98299f36-1796-4d32-989b-9519b3535304"
   },
   "outputs": [
    {
     "name": "stdout",
     "output_type": "stream",
     "text": [
      "No. of pothole images: 203\n",
      "No. of nopothole images: 14\n"
     ]
    }
   ],
   "source": [
    "pothole_dir = os.path.join('C:/Users/Shubham Gupta/Desktop/final/new/train/pothole')\n",
    "nopothole_dir= os.path.join('C:/Users/Shubham Gupta/Desktop/+final/new/train/nopothole')\n",
    "\n",
    "print('No. of pothole images:', len(os.listdir(pothole_dir)))\n",
    "print('No. of nopothole images:', len(os.listdir(nopothole_dir)))"
   ]
  },
  {
   "cell_type": "code",
   "execution_count": 4,
   "metadata": {
    "colab": {
     "height": 1468
    },
    "colab_type": "code",
    "id": "LWTisYLQM1aM",
    "outputId": "e8b5eb30-4116-48b3-bec9-e760fec92d40"
   },
   "outputs": [],
   "source": [
    "TRAINING_DIR = \"C:/Users/Shubham Gupta/Desktop/final/new/train\"\n",
    "training_datagen = ImageDataGenerator(\n",
    "        rescale = 1./255,\n",
    "        rotation_range=40,\n",
    "        width_shift_range=0.2,\n",
    "        height_shift_range=0.2,\n",
    "        shear_range=0.3,\n",
    "        zoom_range=0.3,\n",
    "        horizontal_flip=True,\n",
    "        fill_mode='nearest'\n",
    "        )\n",
    "\n",
    "VALIDATION_DIR = \"C:/Users/Shubham Gupta/Desktop/final/new/test\"\n",
    "validation_datagen = ImageDataGenerator(\n",
    "                width_shift_range=0.2,\n",
    "        height_shift_range=0.2,\n",
    "        shear_range=0.3,\n",
    "        zoom_range=0.3,\n",
    "        rescale = 1./255\n",
    "        )"
   ]
  },
  {
   "cell_type": "code",
   "execution_count": 5,
   "metadata": {},
   "outputs": [
    {
     "name": "stdout",
     "output_type": "stream",
     "text": [
      "Found 216 images belonging to 2 classes.\n",
      "Found 12 images belonging to 2 classes.\n"
     ]
    }
   ],
   "source": [
    "train_generator = training_datagen.flow_from_directory(\n",
    "    TRAINING_DIR,\n",
    "    target_size=(150,150),\n",
    "    class_mode='categorical'\n",
    ")\n",
    "\n",
    "validation_generator = validation_datagen.flow_from_directory(\n",
    "    VALIDATION_DIR,\n",
    "    target_size=(150,150),\n",
    "    class_mode='categorical'\n",
    ")"
   ]
  },
  {
   "cell_type": "code",
   "execution_count": 6,
   "metadata": {},
   "outputs": [],
   "source": [
    "os.startfile(\"capture.jpg\")"
   ]
  },
  {
   "cell_type": "code",
   "execution_count": 7,
   "metadata": {},
   "outputs": [
    {
     "name": "stdout",
     "output_type": "stream",
     "text": [
      "WARNING:tensorflow:From c:\\users\\shubham gupta\\appdata\\local\\programs\\python\\python36\\lib\\site-packages\\tensorflow\\python\\ops\\init_ops.py:1251: calling VarianceScaling.__init__ (from tensorflow.python.ops.init_ops) with dtype is deprecated and will be removed in a future version.\n",
      "Instructions for updating:\n",
      "Call initializer instance with the dtype argument instead of passing it to the constructor\n"
     ]
    }
   ],
   "source": [
    "model = tf.keras.models.Sequential([\n",
    "    tf.keras.layers.Conv2D(128, (3,3), activation='relu', input_shape=(150, 150, 3)),\n",
    "    tf.keras.layers.MaxPooling2D(2, 2),\n",
    "    \n",
    "    \n",
    "    tf.keras.layers.Conv2D(64, (3,3), activation='relu'),\n",
    "    tf.keras.layers.MaxPooling2D(2, 2),]\n",
    "    \n",
    "    tf.keras.layers.Conv2D(32,(3,3), activation='relu'),\n",
    "    tf.keras.layers.MaxPooling2D(2,2),\n",
    "    \n",
    "    tf.keras.layers.Conv2D(64, (3,3), activation='relu'),\n",
    "    tf.keras.layers.Dense(32, activation='relu'),\n",
    "    tf.keras.layers.MaxPooling2D(2,2),\n",
    "    \n",
    "    tf.keras.layers.Conv2D(64, (3,3), activation='relu'),\n",
    "    tf.keras.layers.Dense(32, activation='relu'),\n",
    "    tf.keras.layers.MaxPooling2D(2,2),\n",
    "    tf.keras.layers.Flatten(),\n",
    "    tf.keras.layers.Dense(32, activation='relu'),\n",
    "    tf.keras.layers.Dense(2, activation='sigmoid')\n",
    "])"
   ]
  },
  {
   "cell_type": "code",
   "execution_count": 8,
   "metadata": {},
   "outputs": [],
   "source": [
    "model.compile(loss = 'categorical_crossentropy', optimizer='rmsprop', metrics=['accuracy'])"
   ]
  },
  {
   "cell_type": "code",
   "execution_count": 9,
   "metadata": {},
   "outputs": [
    {
     "name": "stdout",
     "output_type": "stream",
     "text": [
      "Epoch 1/15\n",
      "WARNING:tensorflow:From c:\\users\\shubham gupta\\appdata\\local\\programs\\python\\python36\\lib\\site-packages\\tensorflow\\python\\ops\\math_grad.py:1250: add_dispatch_support.<locals>.wrapper (from tensorflow.python.ops.array_ops) is deprecated and will be removed in a future version.\n",
      "Instructions for updating:\n",
      "Use tf.where in 2.0, which has the same broadcast rule as np.where\n",
      "7/7 - 11s - loss: 0.4339 - acc: 0.8241 - val_loss: 0.7056 - val_acc: 0.7500\n",
      "Epoch 2/15\n",
      "7/7 - 4s - loss: 0.3302 - acc: 0.9352 - val_loss: 1.1855 - val_acc: 0.7500\n",
      "Epoch 3/15\n",
      "7/7 - 4s - loss: 0.2576 - acc: 0.9352 - val_loss: 1.2247 - val_acc: 0.7500\n",
      "Epoch 4/15\n",
      "7/7 - 4s - loss: 0.2901 - acc: 0.9352 - val_loss: 0.6555 - val_acc: 0.7500\n",
      "Epoch 5/15\n",
      "7/7 - 4s - loss: 0.2777 - acc: 0.9352 - val_loss: 0.6549 - val_acc: 0.7500\n",
      "Epoch 6/15\n",
      "7/7 - 4s - loss: 0.2822 - acc: 0.9352 - val_loss: 0.6645 - val_acc: 0.7500\n",
      "Epoch 7/15\n",
      "7/7 - 4s - loss: 0.2849 - acc: 0.9352 - val_loss: 0.5991 - val_acc: 0.7500\n",
      "Epoch 8/15\n",
      "7/7 - 4s - loss: 0.2837 - acc: 0.9352 - val_loss: 0.5516 - val_acc: 0.7500\n",
      "Epoch 9/15\n",
      "7/7 - 4s - loss: 0.2541 - acc: 0.9352 - val_loss: 0.5271 - val_acc: 0.7500\n",
      "Epoch 10/15\n",
      "7/7 - 4s - loss: 0.2236 - acc: 0.9352 - val_loss: 1.1209 - val_acc: 0.7500\n",
      "Epoch 11/15\n",
      "7/7 - 4s - loss: 0.2226 - acc: 0.9352 - val_loss: 0.4289 - val_acc: 0.7500\n",
      "Epoch 12/15\n",
      "7/7 - 4s - loss: 0.2163 - acc: 0.9352 - val_loss: 0.4009 - val_acc: 0.7500\n",
      "Epoch 13/15\n",
      "7/7 - 4s - loss: 0.1978 - acc: 0.9352 - val_loss: 0.3461 - val_acc: 0.7500\n",
      "Epoch 14/15\n",
      "7/7 - 4s - loss: 0.1762 - acc: 0.9352 - val_loss: 0.3266 - val_acc: 0.7500\n",
      "Epoch 15/15\n",
      "7/7 - 4s - loss: 0.1707 - acc: 0.9352 - val_loss: 1.0532 - val_acc: 0.7500\n"
     ]
    }
   ],
   "source": [
    "history = model.fit_generator(train_generator, epochs=15, validation_data = validation_generator, verbose = 2)"
   ]
  },
  {
   "cell_type": "code",
   "execution_count": 10,
   "metadata": {},
   "outputs": [
    {
     "name": "stdout",
     "output_type": "stream",
     "text": [
      "Model: \"sequential\"\n",
      "_________________________________________________________________\n",
      "Layer (type)                 Output Shape              Param #   \n",
      "=================================================================\n",
      "conv2d (Conv2D)              (None, 148, 148, 128)     3584      \n",
      "_________________________________________________________________\n",
      "max_pooling2d (MaxPooling2D) (None, 74, 74, 128)       0         \n",
      "_________________________________________________________________\n",
      "conv2d_1 (Conv2D)            (None, 72, 72, 64)        73792     \n",
      "_________________________________________________________________\n",
      "max_pooling2d_1 (MaxPooling2 (None, 36, 36, 64)        0         \n",
      "_________________________________________________________________\n",
      "conv2d_2 (Conv2D)            (None, 34, 34, 32)        18464     \n",
      "_________________________________________________________________\n",
      "max_pooling2d_2 (MaxPooling2 (None, 17, 17, 32)        0         \n",
      "_________________________________________________________________\n",
      "conv2d_3 (Conv2D)            (None, 15, 15, 64)        18496     \n",
      "_________________________________________________________________\n",
      "dense (Dense)                (None, 15, 15, 32)        2080      \n",
      "_________________________________________________________________\n",
      "max_pooling2d_3 (MaxPooling2 (None, 7, 7, 32)          0         \n",
      "_________________________________________________________________\n",
      "conv2d_4 (Conv2D)            (None, 5, 5, 64)          18496     \n",
      "_________________________________________________________________\n",
      "dense_1 (Dense)              (None, 5, 5, 32)          2080      \n",
      "_________________________________________________________________\n",
      "max_pooling2d_4 (MaxPooling2 (None, 2, 2, 32)          0         \n",
      "_________________________________________________________________\n",
      "flatten (Flatten)            (None, 128)               0         \n",
      "_________________________________________________________________\n",
      "dense_2 (Dense)              (None, 32)                4128      \n",
      "_________________________________________________________________\n",
      "dense_3 (Dense)              (None, 2)                 66        \n",
      "=================================================================\n",
      "Total params: 141,186\n",
      "Trainable params: 141,186\n",
      "Non-trainable params: 0\n",
      "_________________________________________________________________\n"
     ]
    }
   ],
   "source": [
    "model.summary()\n",
    "model.save(\"rps.h5\")"
   ]
  },
  {
   "cell_type": "code",
   "execution_count": 11,
   "metadata": {},
   "outputs": [],
   "source": [
    "def FrameCapture( path , pathhelp): \n",
    "    # Path to video file \n",
    "    vidObj = cv2.VideoCapture(path) \n",
    "    # Used as counter variable \n",
    "    count = 0\n",
    "    # checks whether frames were extracted \n",
    "    success = 1\n",
    "    while success: \n",
    "        # vidObj object calls read \n",
    "        # function extract frames \n",
    "        success, image = vidObj.read() \n",
    "        # Saves the frames with frame-count \n",
    "        cv2.imwrite( pathhelp + \"frame%d.jpg\" % count, image) \n",
    "        count += 1"
   ]
  },
  {
   "cell_type": "code",
   "execution_count": 12,
   "metadata": {},
   "outputs": [],
   "source": [
    "# Driver Code \n",
    "if __name__ == '__main__': \n",
    "    # Calling the function \n",
    "    FrameCapture(\"C:/Users/Shubham Gupta/Desktop/final/road/r1.mp4\" , \"C:/Users/Shubham Gupta/Desktop/final/road/r1/\") \n",
    "    FrameCapture(\"C:/Users/Shubham Gupta/Desktop/final/road/r2.mp4\" , \"C:/Users/Shubham Gupta/Desktop/final/road/r2/\") "
   ]
  },
  {
   "cell_type": "code",
   "execution_count": 13,
   "metadata": {},
   "outputs": [],
   "source": [
    "l=[]\n",
    "f = []\n",
    "for (dirpath, dirnames, filenames) in walk(\"C:/Users/Shubham Gupta/Desktop/final/road/r1\"):\n",
    "    f.extend(filenames)\n",
    "    break\n",
    "\n",
    "for i in f:\n",
    "    l.append( \"C:/Users/Shubham Gupta/Desktop/final/road/r1\" + \"/\" + i )\n",
    "count = 0\n",
    "\n",
    "for i in f:\n",
    "    if i != \"frame179.jpg\":\n",
    "        path = os.path.join(\"C:/Users/Shubham Gupta/Desktop/final/road/r1/\" + i )\n",
    "        img = image.load_img(path, target_size=(150, 150))\n",
    "        x = image.img_to_array(img)\n",
    "        x = np.expand_dims(x, axis=0)\n",
    "        images = np.vstack([x])\n",
    "        ans = model.predict(images)\n",
    "        if ans[0][1].astype(int) ==1:\n",
    "            count=count+1"
   ]
  },
  {
   "cell_type": "code",
   "execution_count": 14,
   "metadata": {},
   "outputs": [],
   "source": [
    "l=[]\n",
    "f = []\n",
    "for (dirpath, dirnames, filenames) in walk(\"C:/Users/Shubham Gupta/Desktop/final/road/r2\"):\n",
    "    f.extend(filenames)\n",
    "    break\n",
    "for i in f:\n",
    "    l.append( \"C:/Users/Shubham Gupta/Desktop/final/road/r2\" + \"/\" + i )\n",
    "count1 = 0\n",
    "for i in f:\n",
    "    if i != \"frame230.jpg\":\n",
    "        path = os.path.join(\"C:/Users/Shubham Gupta/Desktop/final/road/r2/\" + i )\n",
    "        img = image.load_img(path, target_size=(150, 150))\n",
    "        x = image.img_to_array(img)\n",
    "        x = np.expand_dims(x, axis=0)\n",
    "        images = np.vstack([x])\n",
    "        ans = model.predict(images)\n",
    "        if ans[0][1].astype(int) ==1:\n",
    "            count1 = count1 + 1"
   ]
  },
  {
   "cell_type": "code",
   "execution_count": 15,
   "metadata": {},
   "outputs": [],
   "source": [
    "source = \"Potheri\"\n",
    "destination = \"Mahabalipuram\"\n",
    "r1_d = \"46 km\"\n",
    "r2_d = \"48 km\"\n",
    "\n",
    "file = open(\"result.txt\",'w')\n",
    "file.write(\"-----Welcome----\\n\")\n",
    "file.write(\"Source = \"+source + \"\\n\")\n",
    "file.write(\"Destination = \" + destination + \"\\n\\n\")\n",
    "file.write(\"Route 1 distance = \" + r1_d + \"\\n\")\n",
    "file.write(\"Route 2 distance = \" + r2_d + \"\\n\\n\")\n",
    "file.write(\"No. of pothole in Route 1  = \" + str( count ) + \"\\n\")\n",
    "file.write(\"no. of pothole in Route 2  = \" + str( count1 )+ \"\\n\\n\")\n",
    "if count > count1:\n",
    "    file.write(\"Preferred Route : Route 2\")\n",
    "else:\n",
    "    file.write(\"Preferred Route : Route 1\")\n",
    "\n",
    "file.close()\n",
    "os.startfile(\"result.txt\")"
   ]
  }
 ],
 "metadata": {
  "colab": {
   "name": "rock_paper_scissors.ipynb",
   "provenance": [],
   "version": "0.3.2"
  },
  "kernelspec": {
   "display_name": "Python 3",
   "language": "python",
   "name": "python3"
  },
  "language_info": {
   "codemirror_mode": {
    "name": "ipython",
    "version": 3
   },
   "file_extension": ".py",
   "mimetype": "text/x-python",
   "name": "python",
   "nbconvert_exporter": "python",
   "pygments_lexer": "ipython3",
   "version": "3.6.6"
  }
 },
 "nbformat": 4,
 "nbformat_minor": 1
}
