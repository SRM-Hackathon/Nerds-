{
 "cells": [
  {
   "cell_type": "code",
   "execution_count": null,
   "metadata": {},
   "outputs": [],
   "source": [
    "# Importing all necessary libraries \n",
    "import cv2 \n",
    "import os \n",
    "\n",
    "# Read the video from specified path \n",
    "cam = cv2.VideoCapture(\"C:\\\\Users\\\\Admin\\\\PycharmProjects\\\\project_1\\\\openCV.mp4\") \n",
    "\n",
    "try:  \n",
    "    if not os.path.exists('data'): \n",
    "    os.makedirs('data') \n",
    "\n",
    "# if not created then raise error \n",
    "except OSError: \n",
    "    print ('Error: Creating directory of data') \n",
    "\n",
    "# frame \n",
    "currentframe = 0\n",
    "\n",
    "while(True):  \n",
    "    ret,frame = cam.read() \n",
    "\n",
    "    if ret:  \n",
    "        name = './data/frame' + str(currentframe) + '.jpg'\n",
    "        print ('Creating...' + name) \n",
    "        cv2.imwrite(name, frame) \n",
    "        currentframe += 1\n",
    "    else: \n",
    "        break\n",
    "        \n",
    "# Release all space and windows once done \n",
    "cam.release() \n",
    "cv2.destroyAllWindows() \n"
   ]
  }
 ],
 "metadata": {
  "kernelspec": {
   "display_name": "Python 3",
   "language": "python",
   "name": "python3"
  },
  "language_info": {
   "codemirror_mode": {
    "name": "ipython",
    "version": 3
   },
   "file_extension": ".py",
   "mimetype": "text/x-python",
   "name": "python",
   "nbconvert_exporter": "python",
   "pygments_lexer": "ipython3",
   "version": "3.6.6"
  }
 },
 "nbformat": 4,
 "nbformat_minor": 2
}
